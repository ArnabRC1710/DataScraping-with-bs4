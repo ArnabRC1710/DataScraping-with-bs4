{
 "cells": [
  {
   "cell_type": "code",
   "execution_count": 1,
   "metadata": {
    "scrolled": true
   },
   "outputs": [
    {
     "name": "stdout",
     "output_type": "stream",
     "text": [
      "Requirement already satisfied: requests in c:\\users\\arnab\\anaconda3\\lib\\site-packages (2.24.0)\n",
      "Requirement already satisfied: chardet<4,>=3.0.2 in c:\\users\\arnab\\anaconda3\\lib\\site-packages (from requests) (3.0.4)\n",
      "Requirement already satisfied: certifi>=2017.4.17 in c:\\users\\arnab\\anaconda3\\lib\\site-packages (from requests) (2020.6.20)\n",
      "Requirement already satisfied: idna<3,>=2.5 in c:\\users\\arnab\\anaconda3\\lib\\site-packages (from requests) (2.10)\n",
      "Requirement already satisfied: urllib3!=1.25.0,!=1.25.1,<1.26,>=1.21.1 in c:\\users\\arnab\\anaconda3\\lib\\site-packages (from requests) (1.25.9)\n"
     ]
    }
   ],
   "source": [
    "# Install requests module\n",
    "!pip install requests"
   ]
  },
  {
   "cell_type": "code",
   "execution_count": 2,
   "metadata": {},
   "outputs": [
    {
     "name": "stdout",
     "output_type": "stream",
     "text": [
      "Requirement already satisfied: bs4 in c:\\users\\arnab\\anaconda3\\lib\\site-packages (0.0.1)\n",
      "Requirement already satisfied: beautifulsoup4 in c:\\users\\arnab\\anaconda3\\lib\\site-packages (from bs4) (4.9.1)\n",
      "Requirement already satisfied: soupsieve>1.2 in c:\\users\\arnab\\anaconda3\\lib\\site-packages (from beautifulsoup4->bs4) (2.0.1)\n"
     ]
    }
   ],
   "source": [
    "# Install beautiful soup module\n",
    "!pip install bs4"
   ]
  },
  {
   "cell_type": "code",
   "execution_count": 3,
   "metadata": {},
   "outputs": [],
   "source": [
    "import requests\n",
    "from bs4 import BeautifulSoup"
   ]
  },
  {
   "cell_type": "code",
   "execution_count": 7,
   "metadata": {},
   "outputs": [],
   "source": [
    "# Getting request from a specific page\n",
    "result = requests.get(\"https://www.google.co.in/\")"
   ]
  },
  {
   "cell_type": "code",
   "execution_count": 8,
   "metadata": {},
   "outputs": [
    {
     "name": "stdout",
     "output_type": "stream",
     "text": [
      "200\n"
     ]
    }
   ],
   "source": [
    "#Printing out the status code of the request, 200 means that the it is giving OK status and a html page is accessible\n",
    "print(result.status_code)"
   ]
  },
  {
   "cell_type": "code",
   "execution_count": 9,
   "metadata": {},
   "outputs": [
    {
     "name": "stdout",
     "output_type": "stream",
     "text": [
      "{'Date': 'Tue, 29 Jun 2021 03:15:17 GMT', 'Expires': '-1', 'Cache-Control': 'private, max-age=0', 'Content-Type': 'text/html; charset=ISO-8859-1', 'P3P': 'CP=\"This is not a P3P policy! See g.co/p3phelp for more info.\"', 'Content-Encoding': 'gzip', 'Server': 'gws', 'X-XSS-Protection': '0', 'X-Frame-Options': 'SAMEORIGIN', 'Set-Cookie': '1P_JAR=2021-06-29-03; expires=Thu, 29-Jul-2021 03:15:17 GMT; path=/; domain=.google.co.in; Secure, NID=218=qK0XQg6OqtoaMHxDCewOE-6dZN8U37Zv3N69wkV0pxc0GUK2c_gPBE1CbNd5k3Vjr5IB0ZMfaUIp2WTI34MwUxdhH9l9LliAY97uOInczFhrd8yZ7CpGgy6zCnQlDC_wfgUpBUUbvuCU3yuUT_h_RPsFLpt-uuSzkYaA--YmEBg; expires=Wed, 29-Dec-2021 03:15:17 GMT; path=/; domain=.google.co.in; HttpOnly', 'Alt-Svc': 'h3=\":443\"; ma=2592000,h3-29=\":443\"; ma=2592000,h3-T051=\":443\"; ma=2592000,h3-Q050=\":443\"; ma=2592000,h3-Q046=\":443\"; ma=2592000,h3-Q043=\":443\"; ma=2592000,quic=\":443\"; ma=2592000; v=\"46,43\"', 'Transfer-Encoding': 'chunked'}\n"
     ]
    }
   ],
   "source": [
    "print(result.headers)"
   ]
  },
  {
   "cell_type": "code",
   "execution_count": 11,
   "metadata": {},
   "outputs": [],
   "source": [
    "src = result.content"
   ]
  },
  {
   "cell_type": "code",
   "execution_count": 12,
   "metadata": {},
   "outputs": [],
   "source": [
    "soup = BeautifulSoup(src,'lxml')"
   ]
  },
  {
   "cell_type": "code",
   "execution_count": 13,
   "metadata": {},
   "outputs": [],
   "source": [
    "links = soup.find_all(\"a\")"
   ]
  },
  {
   "cell_type": "code",
   "execution_count": 15,
   "metadata": {},
   "outputs": [
    {
     "name": "stdout",
     "output_type": "stream",
     "text": [
      "[<a class=\"gb1\" href=\"https://www.google.co.in/imghp?hl=en&amp;tab=wi\">Images</a>, <a class=\"gb1\" href=\"https://maps.google.co.in/maps?hl=en&amp;tab=wl\">Maps</a>, <a class=\"gb1\" href=\"https://play.google.com/?hl=en&amp;tab=w8\">Play</a>, <a class=\"gb1\" href=\"https://www.youtube.com/?gl=IN&amp;tab=w1\">YouTube</a>, <a class=\"gb1\" href=\"https://news.google.com/?tab=wn\">News</a>, <a class=\"gb1\" href=\"https://mail.google.com/mail/?tab=wm\">Gmail</a>, <a class=\"gb1\" href=\"https://drive.google.com/?tab=wo\">Drive</a>, <a class=\"gb1\" href=\"https://www.google.co.in/intl/en/about/products?tab=wh\" style=\"text-decoration:none\"><u>More</u> »</a>, <a class=\"gb4\" href=\"http://www.google.co.in/history/optout?hl=en\">Web History</a>, <a class=\"gb4\" href=\"/preferences?hl=en\">Settings</a>, <a class=\"gb4\" href=\"https://accounts.google.com/ServiceLogin?hl=en&amp;passive=true&amp;continue=https://www.google.co.in/&amp;ec=GAZAAQ\" id=\"gb_70\" target=\"_top\">Sign in</a>, <a href=\"/advanced_search?hl=en-IN&amp;authuser=0\">Advanced search</a>, <a href=\"https://www.google.co.in/setprefs?sig=0_DFybecgZ6tjOvpoULKyNxdUM4ns%3D&amp;hl=hi&amp;source=homepage&amp;sa=X&amp;ved=0ahUKEwjx4oWf8LvxAhX0ILcAHUuQAucQ2ZgBCAU\">हिन्दी</a>, <a href=\"https://www.google.co.in/setprefs?sig=0_DFybecgZ6tjOvpoULKyNxdUM4ns%3D&amp;hl=bn&amp;source=homepage&amp;sa=X&amp;ved=0ahUKEwjx4oWf8LvxAhX0ILcAHUuQAucQ2ZgBCAY\">বাংলা</a>, <a href=\"https://www.google.co.in/setprefs?sig=0_DFybecgZ6tjOvpoULKyNxdUM4ns%3D&amp;hl=te&amp;source=homepage&amp;sa=X&amp;ved=0ahUKEwjx4oWf8LvxAhX0ILcAHUuQAucQ2ZgBCAc\">తెలుగు</a>, <a href=\"https://www.google.co.in/setprefs?sig=0_DFybecgZ6tjOvpoULKyNxdUM4ns%3D&amp;hl=mr&amp;source=homepage&amp;sa=X&amp;ved=0ahUKEwjx4oWf8LvxAhX0ILcAHUuQAucQ2ZgBCAg\">मराठी</a>, <a href=\"https://www.google.co.in/setprefs?sig=0_DFybecgZ6tjOvpoULKyNxdUM4ns%3D&amp;hl=ta&amp;source=homepage&amp;sa=X&amp;ved=0ahUKEwjx4oWf8LvxAhX0ILcAHUuQAucQ2ZgBCAk\">தமிழ்</a>, <a href=\"https://www.google.co.in/setprefs?sig=0_DFybecgZ6tjOvpoULKyNxdUM4ns%3D&amp;hl=gu&amp;source=homepage&amp;sa=X&amp;ved=0ahUKEwjx4oWf8LvxAhX0ILcAHUuQAucQ2ZgBCAo\">ગુજરાતી</a>, <a href=\"https://www.google.co.in/setprefs?sig=0_DFybecgZ6tjOvpoULKyNxdUM4ns%3D&amp;hl=kn&amp;source=homepage&amp;sa=X&amp;ved=0ahUKEwjx4oWf8LvxAhX0ILcAHUuQAucQ2ZgBCAs\">ಕನ್ನಡ</a>, <a href=\"https://www.google.co.in/setprefs?sig=0_DFybecgZ6tjOvpoULKyNxdUM4ns%3D&amp;hl=ml&amp;source=homepage&amp;sa=X&amp;ved=0ahUKEwjx4oWf8LvxAhX0ILcAHUuQAucQ2ZgBCAw\">മലയാളം</a>, <a href=\"https://www.google.co.in/setprefs?sig=0_DFybecgZ6tjOvpoULKyNxdUM4ns%3D&amp;hl=pa&amp;source=homepage&amp;sa=X&amp;ved=0ahUKEwjx4oWf8LvxAhX0ILcAHUuQAucQ2ZgBCA0\">ਪੰਜਾਬੀ</a>, <a href=\"/intl/en/ads/\">Advertising Programs</a>, <a href=\"http://www.google.co.in/services/\">Business Solutions</a>, <a href=\"/intl/en/about.html\">About Google</a>, <a href=\"https://www.google.co.in/setprefdomain?prefdom=US&amp;sig=K_28J_9t8PzZmFc7F0MaBq3ETjht8%3D\" id=\"fehl\">Google.com</a>, <a href=\"/intl/en/policies/privacy/\">Privacy</a>, <a href=\"/intl/en/policies/terms/\">Terms</a>]\n",
      "\n",
      "\n"
     ]
    }
   ],
   "source": [
    "print(links)\n",
    "print(\"\\n\")"
   ]
  },
  {
   "cell_type": "code",
   "execution_count": 20,
   "metadata": {},
   "outputs": [
    {
     "name": "stdout",
     "output_type": "stream",
     "text": [
      "<a href=\"/intl/en/about.html\">About Google</a> \n",
      "\n",
      "/intl/en/about.html\n"
     ]
    }
   ],
   "source": [
    "for link in links:\n",
    "    if \"About\" in link.text:\n",
    "        print(link,\"\\n\")\n",
    "        print(link.attrs['href'])"
   ]
  },
  {
   "cell_type": "code",
   "execution_count": null,
   "metadata": {},
   "outputs": [],
   "source": []
  }
 ],
 "metadata": {
  "kernelspec": {
   "display_name": "Python 3",
   "language": "python",
   "name": "python3"
  },
  "language_info": {
   "codemirror_mode": {
    "name": "ipython",
    "version": 3
   },
   "file_extension": ".py",
   "mimetype": "text/x-python",
   "name": "python",
   "nbconvert_exporter": "python",
   "pygments_lexer": "ipython3",
   "version": "3.8.3"
  }
 },
 "nbformat": 4,
 "nbformat_minor": 4
}
